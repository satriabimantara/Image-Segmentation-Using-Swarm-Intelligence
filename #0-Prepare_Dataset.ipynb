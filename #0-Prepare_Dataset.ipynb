{
 "cells": [
  {
   "cell_type": "markdown",
   "id": "c8e17238",
   "metadata": {},
   "source": [
    "# Import Libraries"
   ]
  },
  {
   "cell_type": "code",
   "execution_count": 1,
   "id": "be36d373",
   "metadata": {},
   "outputs": [],
   "source": [
    "import cv2\n",
    "import pickle\n",
    "import os"
   ]
  },
  {
   "cell_type": "markdown",
   "id": "4f1c0219",
   "metadata": {},
   "source": [
    "# Prepare Data"
   ]
  },
  {
   "cell_type": "markdown",
   "id": "e72319db",
   "metadata": {},
   "source": [
    "## Data Training"
   ]
  },
  {
   "cell_type": "code",
   "execution_count": 2,
   "id": "f014c121",
   "metadata": {},
   "outputs": [],
   "source": [
    "# get all image files in Misc Folder\n",
    "train_images = os.listdir(\"datasets/Training/\")\n",
    "\n",
    "# retrieve first 10 images and transform into gray and RGB channel\n",
    "train_dataset_misc = {\n",
    "    'gray': [\n",
    "        cv2.cvtColor(cv2.imread(\"datasets/Training/\"+image_name), cv2.COLOR_BGR2GRAY) for image_name in train_images\n",
    "    ],\n",
    "    'rgb': [\n",
    "        cv2.cvtColor(cv2.imread(\"datasets/Training/\"+image_name), cv2.COLOR_BGR2RGB) for image_name in train_images\n",
    "    ]\n",
    "}"
   ]
  },
  {
   "cell_type": "markdown",
   "id": "7cbbe32b",
   "metadata": {},
   "source": [
    "## Data Testing"
   ]
  },
  {
   "cell_type": "code",
   "execution_count": 3,
   "id": "2019d741",
   "metadata": {},
   "outputs": [],
   "source": [
    "test_images = os.listdir(\"datasets/Testing/\")"
   ]
  },
  {
   "cell_type": "code",
   "execution_count": 4,
   "id": "0289c722",
   "metadata": {},
   "outputs": [],
   "source": [
    "test_dataset_misc = {\n",
    "    'gray': {\n",
    "        image_name:cv2.cvtColor(cv2.imread(\"datasets/Testing/\"+image_name), cv2.COLOR_BGR2GRAY) for image_name in test_images\n",
    "    },\n",
    "    'rgb': {\n",
    "        image_name:cv2.cvtColor(cv2.imread(\"datasets/Testing/\"+image_name), cv2.COLOR_BGR2RGB) for image_name in test_images\n",
    "    }\n",
    "}"
   ]
  },
  {
   "cell_type": "markdown",
   "id": "0db6ed22",
   "metadata": {},
   "source": [
    "# Save Prepared Data"
   ]
  },
  {
   "cell_type": "code",
   "execution_count": 5,
   "id": "bf23036c",
   "metadata": {},
   "outputs": [],
   "source": [
    "pickle.dump(train_dataset_misc, open('datasets/train_dataset.pkl', 'wb'))\n",
    "pickle.dump(test_dataset_misc, open('datasets/test_dataset.pkl', 'wb'))"
   ]
  },
  {
   "cell_type": "code",
   "execution_count": null,
   "id": "5c4c022e",
   "metadata": {},
   "outputs": [],
   "source": []
  }
 ],
 "metadata": {
  "kernelspec": {
   "display_name": "venv_S2_citra_digital",
   "language": "python",
   "name": "venv_s2_citra_digital"
  },
  "language_info": {
   "codemirror_mode": {
    "name": "ipython",
    "version": 3
   },
   "file_extension": ".py",
   "mimetype": "text/x-python",
   "name": "python",
   "nbconvert_exporter": "python",
   "pygments_lexer": "ipython3",
   "version": "3.10.8"
  },
  "toc": {
   "base_numbering": 1,
   "nav_menu": {},
   "number_sections": true,
   "sideBar": true,
   "skip_h1_title": false,
   "title_cell": "Table of Contents",
   "title_sidebar": "Contents",
   "toc_cell": false,
   "toc_position": {},
   "toc_section_display": true,
   "toc_window_display": false
  }
 },
 "nbformat": 4,
 "nbformat_minor": 5
}
